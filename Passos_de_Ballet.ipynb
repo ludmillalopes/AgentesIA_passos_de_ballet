{
  "nbformat": 4,
  "nbformat_minor": 0,
  "metadata": {
    "colab": {
      "provenance": [],
      "authorship_tag": "ABX9TyNYZoIL26hsAbTpVfSjdPWL",
      "include_colab_link": true
    },
    "kernelspec": {
      "name": "python3",
      "display_name": "Python 3"
    },
    "language_info": {
      "name": "python"
    }
  },
  "cells": [
    {
      "cell_type": "markdown",
      "metadata": {
        "id": "view-in-github",
        "colab_type": "text"
      },
      "source": [
        "<a href=\"https://colab.research.google.com/github/ludmillalopes/AgentesIA_passos_de_ballet/blob/main/Passos_de_Ballet.ipynb\" target=\"_parent\"><img src=\"https://colab.research.google.com/assets/colab-badge.svg\" alt=\"Open In Colab\"/></a>"
      ]
    },
    {
      "cell_type": "code",
      "execution_count": 91,
      "metadata": {
        "id": "nTfwy9Zs4TQN"
      },
      "outputs": [],
      "source": [
        "!pip install -q google-genai"
      ]
    },
    {
      "cell_type": "code",
      "source": [
        "# Instalar Framework ADK de agentes do Google ################################################\n",
        "!pip install -q google-adk"
      ],
      "metadata": {
        "colab": {
          "base_uri": "https://localhost:8080/"
        },
        "collapsed": true,
        "id": "3cU337Xu7j4i",
        "outputId": "fc5326f2-7adc-4f5d-fe88-1475ac0a0a18"
      },
      "execution_count": 2,
      "outputs": [
        {
          "output_type": "stream",
          "name": "stdout",
          "text": [
            "\u001b[?25l   \u001b[90m━━━━━━━━━━━━━━━━━━━━━━━━━━━━━━━━━━━━━━━━\u001b[0m \u001b[32m0.0/1.2 MB\u001b[0m \u001b[31m?\u001b[0m eta \u001b[36m-:--:--\u001b[0m\r\u001b[2K   \u001b[91m━━━━━━━━━━━━━━━━━━━━━━━\u001b[0m\u001b[91m╸\u001b[0m\u001b[90m━━━━━━━━━━━━━━━━\u001b[0m \u001b[32m0.7/1.2 MB\u001b[0m \u001b[31m20.7 MB/s\u001b[0m eta \u001b[36m0:00:01\u001b[0m\r\u001b[2K   \u001b[90m━━━━━━━━━━━━━━━━━━━━━━━━━━━━━━━━━━━━━━━━\u001b[0m \u001b[32m1.2/1.2 MB\u001b[0m \u001b[31m18.1 MB/s\u001b[0m eta \u001b[36m0:00:00\u001b[0m\n",
            "\u001b[?25h\u001b[?25l   \u001b[90m━━━━━━━━━━━━━━━━━━━━━━━━━━━━━━━━━━━━━━━━\u001b[0m \u001b[32m0.0/232.1 kB\u001b[0m \u001b[31m?\u001b[0m eta \u001b[36m-:--:--\u001b[0m\r\u001b[2K   \u001b[90m━━━━━━━━━━━━━━━━━━━━━━━━━━━━━━━━━━━━━━━━\u001b[0m \u001b[32m232.1/232.1 kB\u001b[0m \u001b[31m15.6 MB/s\u001b[0m eta \u001b[36m0:00:00\u001b[0m\n",
            "\u001b[2K   \u001b[90m━━━━━━━━━━━━━━━━━━━━━━━━━━━━━━━━━━━━━━━━\u001b[0m \u001b[32m95.2/95.2 kB\u001b[0m \u001b[31m7.0 MB/s\u001b[0m eta \u001b[36m0:00:00\u001b[0m\n",
            "\u001b[2K   \u001b[90m━━━━━━━━━━━━━━━━━━━━━━━━━━━━━━━━━━━━━━━━\u001b[0m \u001b[32m217.1/217.1 kB\u001b[0m \u001b[31m15.6 MB/s\u001b[0m eta \u001b[36m0:00:00\u001b[0m\n",
            "\u001b[2K   \u001b[90m━━━━━━━━━━━━━━━━━━━━━━━━━━━━━━━━━━━━━━━━\u001b[0m \u001b[32m334.1/334.1 kB\u001b[0m \u001b[31m20.0 MB/s\u001b[0m eta \u001b[36m0:00:00\u001b[0m\n",
            "\u001b[2K   \u001b[90m━━━━━━━━━━━━━━━━━━━━━━━━━━━━━━━━━━━━━━━━\u001b[0m \u001b[32m125.1/125.1 kB\u001b[0m \u001b[31m8.9 MB/s\u001b[0m eta \u001b[36m0:00:00\u001b[0m\n",
            "\u001b[2K   \u001b[90m━━━━━━━━━━━━━━━━━━━━━━━━━━━━━━━━━━━━━━━━\u001b[0m \u001b[32m65.8/65.8 kB\u001b[0m \u001b[31m4.4 MB/s\u001b[0m eta \u001b[36m0:00:00\u001b[0m\n",
            "\u001b[2K   \u001b[90m━━━━━━━━━━━━━━━━━━━━━━━━━━━━━━━━━━━━━━━━\u001b[0m \u001b[32m119.0/119.0 kB\u001b[0m \u001b[31m8.2 MB/s\u001b[0m eta \u001b[36m0:00:00\u001b[0m\n",
            "\u001b[2K   \u001b[90m━━━━━━━━━━━━━━━━━━━━━━━━━━━━━━━━━━━━━━━━\u001b[0m \u001b[32m194.9/194.9 kB\u001b[0m \u001b[31m12.3 MB/s\u001b[0m eta \u001b[36m0:00:00\u001b[0m\n",
            "\u001b[2K   \u001b[90m━━━━━━━━━━━━━━━━━━━━━━━━━━━━━━━━━━━━━━━━\u001b[0m \u001b[32m62.5/62.5 kB\u001b[0m \u001b[31m4.2 MB/s\u001b[0m eta \u001b[36m0:00:00\u001b[0m\n",
            "\u001b[2K   \u001b[90m━━━━━━━━━━━━━━━━━━━━━━━━━━━━━━━━━━━━━━━━\u001b[0m \u001b[32m103.3/103.3 kB\u001b[0m \u001b[31m7.2 MB/s\u001b[0m eta \u001b[36m0:00:00\u001b[0m\n",
            "\u001b[2K   \u001b[90m━━━━━━━━━━━━━━━━━━━━━━━━━━━━━━━━━━━━━━━━\u001b[0m \u001b[32m44.4/44.4 kB\u001b[0m \u001b[31m2.8 MB/s\u001b[0m eta \u001b[36m0:00:00\u001b[0m\n",
            "\u001b[2K   \u001b[90m━━━━━━━━━━━━━━━━━━━━━━━━━━━━━━━━━━━━━━━━\u001b[0m \u001b[32m72.0/72.0 kB\u001b[0m \u001b[31m4.6 MB/s\u001b[0m eta \u001b[36m0:00:00\u001b[0m\n",
            "\u001b[?25h"
          ]
        }
      ]
    },
    {
      "cell_type": "code",
      "source": [
        "# Configura a API Key do Google Gemini\n",
        "\n",
        "import os\n",
        "from google.colab import userdata\n",
        "\n",
        "os.environ[\"GOOGLE_API_KEY\"] = userdata.get('GOOGLE_API_KEY')"
      ],
      "metadata": {
        "id": "FeEWKePH4oUO"
      },
      "execution_count": 3,
      "outputs": []
    },
    {
      "cell_type": "code",
      "source": [
        "# Configura o cliente da SDK do Gemini\n",
        "\n",
        "from google import genai\n",
        "\n",
        "client = genai.Client()\n",
        "\n",
        "MODEL_ID = \"gemini-2.0-flash\""
      ],
      "metadata": {
        "id": "lfjnX6ae41bl"
      },
      "execution_count": 4,
      "outputs": []
    },
    {
      "cell_type": "code",
      "source": [
        "from google.adk.agents import Agent\n",
        "from google.adk.runners import Runner\n",
        "from google.adk.sessions import InMemorySessionService\n",
        "from google.adk.tools import google_search\n",
        "from google.genai import types  # Para criar conteúdos (Content e Part)\n",
        "from datetime import date\n",
        "import textwrap # Para formatar melhor a saída de texto\n",
        "from IPython.display import display, Markdown # Para exibir texto formatado no Colab\n",
        "import requests # Para fazer requisições HTTP\n",
        "import warnings\n",
        "\n",
        "from IPython.display import Image, display\n",
        "\n",
        "warnings.filterwarnings(\"ignore\")"
      ],
      "metadata": {
        "id": "XFElXTH049nZ"
      },
      "execution_count": 24,
      "outputs": []
    },
    {
      "cell_type": "code",
      "source": [
        "# Função auxiliar para exibir texto formatado em Markdown no Colab\n",
        "def to_markdown(text):\n",
        "  text = text.replace('•', '  *')\n",
        "  return Markdown(textwrap.indent(text, '> ', predicate=lambda _: True))"
      ],
      "metadata": {
        "id": "FCqtiQOf8Ux8"
      },
      "execution_count": 6,
      "outputs": []
    },
    {
      "cell_type": "code",
      "source": [
        "# Função auxiliar que envia uma mensagem para um agente via Runner e retorna a resposta final\n",
        "def call_agent(agent: Agent, message_text: str) -> str:\n",
        "    # Cria um serviço de sessão em memória\n",
        "    session_service = InMemorySessionService()\n",
        "    # Cria uma nova sessão (você pode personalizar os IDs conforme necessário)\n",
        "    session = session_service.create_session(app_name=agent.name, user_id=\"user1\", session_id=\"session1\")\n",
        "    # Cria um Runner para o agente\n",
        "    runner = Runner(agent=agent, app_name=agent.name, session_service=session_service)\n",
        "    # Cria o conteúdo da mensagem de entrada\n",
        "    content = types.Content(role=\"user\", parts=[types.Part(text=message_text)])\n",
        "\n",
        "    final_response = \"\"\n",
        "    # Itera assincronamente pelos eventos retornados durante a execução do agente\n",
        "    for event in runner.run(user_id=\"user1\", session_id=\"session1\", new_message=content):\n",
        "        if event.is_final_response():\n",
        "          for part in event.content.parts:\n",
        "            if part.text is not None:\n",
        "              final_response += part.text\n",
        "              final_response += \"\\n\"\n",
        "    return final_response"
      ],
      "metadata": {
        "id": "_9G_Z0AL8NUF"
      },
      "execution_count": 7,
      "outputs": []
    },
    {
      "cell_type": "code",
      "source": [
        "##########################################\n",
        "# --- Agente 1: Verifica calendário Google --- #\n",
        "##########################################\n",
        "def agente_buscador(passo_danca):\n",
        "  buscador = Agent(\n",
        "      name='agente_buscador',\n",
        "      model='gemini-2.0-flash',\n",
        "      description='Agente que busca o passo de dança',\n",
        "      instruction='''\n",
        "      Você é professor de dança, especificamente Ballet Clássico.\n",
        "      A sua tarefa é buscar o passo de dança que foi solicitado.\n",
        "      Caso não encontre da forma exata a qual foi escrita, procure por um passo em que a escrita seja semelhante.\n",
        "      Lembrando que normalmente os nomes dos passos são escritos em francês.\n",
        "      Você pode usar o modo como o nome soa vocalmente em francês e assimilar à escrita em português,\n",
        "      para ajudar os usuários que não sabem qual é a correta ortografia da palavra.\n",
        "      Apresente o nome do passo que foi encontrado. Se for encontrado mais de um, liste o nome de todos eles.\n",
        "      Adicione uma brevíssima descrição que seja suficiente para que o usuário consiga identifica-lo e\n",
        "      ''',\n",
        "      # uma imagem que ilustra o passo.\n",
        "      # pesquise na ferramenta de busca do Google (google-search) uma imagem que ilustra o passo.\n",
        "      # tools=[google_search]\n",
        "  )\n",
        "  # Executa o agente\n",
        "  passos_encontrados = call_agent(buscador, passo_danca)\n",
        "  return passos_encontrados"
      ],
      "metadata": {
        "id": "kxZswEJq8OEe"
      },
      "execution_count": 52,
      "outputs": []
    },
    {
      "cell_type": "code",
      "source": [
        "##########################################\n",
        "# --- Agente 2: Estuda o passo de dança --- #\n",
        "##########################################\n",
        "def agente_estudante(passo_danca):\n",
        "  estudante = Agent(\n",
        "      name='agente_estudante',\n",
        "      model='gemini-2.0-flash',\n",
        "      description='Agente que estuda o passo de dança solicitado',\n",
        "      instruction='''\n",
        "      Você é professor de dança, especificamente Ballet Clássico.\n",
        "      A sua tarefa é explicar didaticamente, mas de modo sucinto e direto, o passo de dança que foi solicitado.\n",
        "      Apresente as seguinte informações:\n",
        "      - Nome do passo;\n",
        "      - Explicação de como o nome do passo é pronunciado corretamente;\n",
        "      - Qual o tipo de passo (salto, giro, pose, passo de transição, etc)\n",
        "      - Em qual momento da aula o passo costuma ser ensinado (por exemplo: na barra, no centro, allegro, etc);\n",
        "      - Explicação sobre o que é o passo;\n",
        "      - Indique se existir diferença na execução em diferentes vertentes do Ballet Clássico;\n",
        "      - Como é executado;\n",
        "      - Possíveis erros de execução;\n",
        "      - Dicas de exercício para chegar na execução perfeita.\n",
        "      -----\n",
        "\n",
        "      A estética do texto pode ser formatado de forma mais divertida, com emojis e mais colorido.\n",
        "      ''',\n",
        "  )\n",
        "  # Executa o agente\n",
        "  passos_sobre = call_agent(estudante, passo_danca)\n",
        "  return passos_sobre"
      ],
      "metadata": {
        "id": "VRz-0NDryaxd"
      },
      "execution_count": 96,
      "outputs": []
    },
    {
      "cell_type": "code",
      "source": [
        "# --- Obter o Tópico do Usuário ---\n",
        "passo_danca = input('Olá, digite o nome do passo de ballet que quer entender: ')\n",
        "\n",
        "# Inserir lógica do sistema de agentes ################################################\n",
        "if not passo_danca:\n",
        "  print('Você esqueceu de digitar o nome do passo de ballet. 😿')\n",
        "else:\n",
        "  passos_buscados = agente_buscador(passo_danca)\n",
        "  display(to_markdown(passos_buscados))\n",
        "\n",
        "  # Confirma se está certo o passo de dança\n",
        "  confirma_passo = input('✔️ O passo de ballet foi listado? Digite novamente para confirmar! 😄 ')\n",
        "\n",
        "  if not confirma_passo:\n",
        "    print('Você esqueceu de digitar o passo de dança! Vamos começar novamente? 🙃')\n",
        "  else:\n",
        "    passo_tudo_sobre = agente_estudante(confirma_passo)\n",
        "    display(to_markdown(passo_tudo_sobre))\n",
        ""
      ],
      "metadata": {
        "colab": {
          "base_uri": "https://localhost:8080/",
          "height": 670
        },
        "id": "ETdWB56kE48k",
        "outputId": "7bc8d362-f3db-4d1b-8049-027f228f9fa2"
      },
      "execution_count": 97,
      "outputs": [
        {
          "name": "stdout",
          "output_type": "stream",
          "text": [
            "Olá, digite o nome do passo de ballet que quer entender: plie\n"
          ]
        },
        {
          "output_type": "display_data",
          "data": {
            "text/plain": [
              "<IPython.core.display.Markdown object>"
            ],
            "text/markdown": "> - Plié (dobrado): Flexão dos joelhos com rotação externa dos membros inferiores. Pode ser demi-plié (flexão\n>  parcial) ou grand-plié (flexão completa).\n"
          },
          "metadata": {}
        },
        {
          "name": "stdout",
          "output_type": "stream",
          "text": [
            "✔️ O passo de ballet foi listado? Digite novamente para confirmar! 😄 Plié\n"
          ]
        },
        {
          "output_type": "display_data",
          "data": {
            "text/plain": [
              "<IPython.core.display.Markdown object>"
            ],
            "text/markdown": "> ✨ Vamos aprender sobre o Plié! ✨\n> \n> 💃 **Nome do Passo:** Plié (pronuncia-se \"pliê\")\n> \n> 🤸 **Tipo de Passo:** É um passo fundamental de flexão dos joelhos. Serve como base para quase todos os movimentos no ballet!\n> \n> 📍 **Onde é Ensinado:** Geralmente, o plié é um dos primeiros exercícios ensinados na barra e no centro, desde as primeiras aulas!\n> \n> 🤔 **O Que É:** O plié é uma flexão dos joelhos que alonga e fortalece os músculos das pernas e quadris, além de melhorar o equilíbrio e a flexibilidade. É a base de quase todos os movimentos do ballet!\n> \n> 🩰 **Variações:**\n>    *   **Demi-plié:** Flexão parcial dos joelhos, sem tirar os calcanhares do chão (a não ser na segunda posição).\n>    *   **Grand plié:** Flexão completa dos joelhos, com os calcanhares saindo do chão (exceto na segunda posição).\n> \n> ⚙️ **Como Executar:**\n> \n> 1.  Comece em uma das cinco posições básicas do ballet.\n> 2.  Mantenha os calcanhares no chão (no demi-plié) ou levante-os gradualmente (no grand plié, exceto na segunda posição).\n> 3.  Flexione os joelhos para fora, mantendo os quadris alinhados e o corpo ereto.\n> 4.  Retorne à posição inicial esticando os joelhos e abaixando os calcanhares (no grand plié).\n> \n> ⚠️ **Erros Comuns:**\n> \n> *   ❌ Inclinar o corpo para frente ou para trás.\n> *   ❌ Deixar os joelhos caírem para dentro.\n> *   ❌ Levantar os ombros ou tensionar o pescoço.\n> *   ❌ Não manter o alinhamento do quadril.\n> \n> 💪 **Dicas e Exercícios:**\n> \n> *   🌟 **Alongamento:** Alongue os músculos da coxa e panturrilha regularmente.\n> *   🌟 **Fortalecimento:** Faça exercícios de fortalecimento para os músculos das pernas e do core.\n> *   🌟 **Prática:** Pratique o plié diariamente, concentrando-se na forma correta e no alinhamento do corpo. Use um espelho para verificar sua postura!\n> \n> 🌈 **Lembre-se:** O plié é a base de tudo no ballet. Com prática e atenção, você vai dominar esse passo essencial!\n> \n"
          },
          "metadata": {}
        }
      ]
    }
  ]
}